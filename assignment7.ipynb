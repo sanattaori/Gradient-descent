{
  "nbformat": 4,
  "nbformat_minor": 0,
  "metadata": {
    "colab": {
      "name": "nptel_7.ipynb",
      "version": "0.3.2",
      "provenance": [],
      "collapsed_sections": []
    },
    "kernelspec": {
      "name": "python3",
      "display_name": "Python 3"
    }
  },
  "cells": [
    {
      "metadata": {
        "id": "1F4yomsbm7an",
        "colab_type": "code",
        "colab": {}
      },
      "cell_type": "code",
      "source": [
        "import numpy as np\n",
        "import pandas as pd\n",
        "import matplotlib.pyplot as plt"
      ],
      "execution_count": 0,
      "outputs": []
    },
    {
      "metadata": {
        "id": "yoTAQSBHnkhI",
        "colab_type": "code",
        "colab": {}
      },
      "cell_type": "code",
      "source": [
        "def f(t):\n",
        "    return np.exp(-t) * np.cos(2*np.pi*t)"
      ],
      "execution_count": 0,
      "outputs": []
    },
    {
      "metadata": {
        "id": "ixPv0I_Jnozf",
        "colab_type": "code",
        "colab": {}
      },
      "cell_type": "code",
      "source": [
        "w = np.load('weights_after_epoch_0.npy')\n"
      ],
      "execution_count": 0,
      "outputs": []
    },
    {
      "metadata": {
        "id": "K4rBun6dnzi9",
        "colab_type": "code",
        "colab": {}
      },
      "cell_type": "code",
      "source": [
        "df_train = pd.read_csv('training_data.csv')"
      ],
      "execution_count": 0,
      "outputs": []
    },
    {
      "metadata": {
        "id": "RCR9Rx8Vptj9",
        "colab_type": "code",
        "colab": {
          "base_uri": "https://localhost:8080/",
          "height": 247
        },
        "outputId": "4ac1c38d-8f45-414b-b8bd-7b52b3cd6814"
      },
      "cell_type": "code",
      "source": [
        "df_train.loc[:,'Feature0': 'Feature39'].head()\n"
      ],
      "execution_count": 33,
      "outputs": [
        {
          "output_type": "execute_result",
          "data": {
            "text/html": [
              "<div>\n",
              "<style scoped>\n",
              "    .dataframe tbody tr th:only-of-type {\n",
              "        vertical-align: middle;\n",
              "    }\n",
              "\n",
              "    .dataframe tbody tr th {\n",
              "        vertical-align: top;\n",
              "    }\n",
              "\n",
              "    .dataframe thead th {\n",
              "        text-align: right;\n",
              "    }\n",
              "</style>\n",
              "<table border=\"1\" class=\"dataframe\">\n",
              "  <thead>\n",
              "    <tr style=\"text-align: right;\">\n",
              "      <th></th>\n",
              "      <th>Feature0</th>\n",
              "      <th>Feature1</th>\n",
              "      <th>Feature2</th>\n",
              "      <th>Feature3</th>\n",
              "      <th>Feature4</th>\n",
              "      <th>Feature5</th>\n",
              "      <th>Feature6</th>\n",
              "      <th>Feature7</th>\n",
              "      <th>Feature8</th>\n",
              "      <th>Feature9</th>\n",
              "      <th>...</th>\n",
              "      <th>Feature30</th>\n",
              "      <th>Feature31</th>\n",
              "      <th>Feature32</th>\n",
              "      <th>Feature33</th>\n",
              "      <th>Feature34</th>\n",
              "      <th>Feature35</th>\n",
              "      <th>Feature36</th>\n",
              "      <th>Feature37</th>\n",
              "      <th>Feature38</th>\n",
              "      <th>Feature39</th>\n",
              "    </tr>\n",
              "  </thead>\n",
              "  <tbody>\n",
              "    <tr>\n",
              "      <th>0</th>\n",
              "      <td>0.140514</td>\n",
              "      <td>-0.533037</td>\n",
              "      <td>1.478885</td>\n",
              "      <td>-0.050549</td>\n",
              "      <td>0.504151</td>\n",
              "      <td>-0.440043</td>\n",
              "      <td>1.812464</td>\n",
              "      <td>-0.095540</td>\n",
              "      <td>0.891967</td>\n",
              "      <td>1.617159</td>\n",
              "      <td>...</td>\n",
              "      <td>0.549028</td>\n",
              "      <td>-1.872650</td>\n",
              "      <td>-0.135790</td>\n",
              "      <td>0.091042</td>\n",
              "      <td>0.566925</td>\n",
              "      <td>-0.219366</td>\n",
              "      <td>0.569566</td>\n",
              "      <td>0.547480</td>\n",
              "      <td>0.097368</td>\n",
              "      <td>0.123405</td>\n",
              "    </tr>\n",
              "    <tr>\n",
              "      <th>1</th>\n",
              "      <td>-0.898200</td>\n",
              "      <td>-0.782070</td>\n",
              "      <td>0.108701</td>\n",
              "      <td>1.364893</td>\n",
              "      <td>0.593578</td>\n",
              "      <td>-0.902526</td>\n",
              "      <td>-0.082300</td>\n",
              "      <td>1.179372</td>\n",
              "      <td>-0.518053</td>\n",
              "      <td>-0.225826</td>\n",
              "      <td>...</td>\n",
              "      <td>-0.129789</td>\n",
              "      <td>-1.288518</td>\n",
              "      <td>-0.180014</td>\n",
              "      <td>0.859563</td>\n",
              "      <td>0.124860</td>\n",
              "      <td>-0.250582</td>\n",
              "      <td>-0.700927</td>\n",
              "      <td>0.482043</td>\n",
              "      <td>-0.206814</td>\n",
              "      <td>1.202387</td>\n",
              "    </tr>\n",
              "    <tr>\n",
              "      <th>2</th>\n",
              "      <td>-0.813415</td>\n",
              "      <td>0.344493</td>\n",
              "      <td>1.595646</td>\n",
              "      <td>-0.145575</td>\n",
              "      <td>1.291868</td>\n",
              "      <td>0.029102</td>\n",
              "      <td>-1.304461</td>\n",
              "      <td>0.737832</td>\n",
              "      <td>0.087635</td>\n",
              "      <td>0.443799</td>\n",
              "      <td>...</td>\n",
              "      <td>-0.836561</td>\n",
              "      <td>-1.022622</td>\n",
              "      <td>2.265219</td>\n",
              "      <td>0.391877</td>\n",
              "      <td>0.042783</td>\n",
              "      <td>1.893751</td>\n",
              "      <td>-0.432940</td>\n",
              "      <td>-0.703125</td>\n",
              "      <td>0.866596</td>\n",
              "      <td>-0.529517</td>\n",
              "    </tr>\n",
              "    <tr>\n",
              "      <th>3</th>\n",
              "      <td>-1.375832</td>\n",
              "      <td>-1.649615</td>\n",
              "      <td>-0.042596</td>\n",
              "      <td>-1.084870</td>\n",
              "      <td>-0.608164</td>\n",
              "      <td>0.817495</td>\n",
              "      <td>0.297666</td>\n",
              "      <td>-0.346243</td>\n",
              "      <td>-0.533978</td>\n",
              "      <td>1.122233</td>\n",
              "      <td>...</td>\n",
              "      <td>0.363916</td>\n",
              "      <td>-0.203589</td>\n",
              "      <td>0.235016</td>\n",
              "      <td>-0.290859</td>\n",
              "      <td>-0.180092</td>\n",
              "      <td>-0.299549</td>\n",
              "      <td>0.512530</td>\n",
              "      <td>-0.955217</td>\n",
              "      <td>1.774759</td>\n",
              "      <td>0.684536</td>\n",
              "    </tr>\n",
              "    <tr>\n",
              "      <th>4</th>\n",
              "      <td>-1.046623</td>\n",
              "      <td>0.965945</td>\n",
              "      <td>-0.326887</td>\n",
              "      <td>0.165514</td>\n",
              "      <td>0.109975</td>\n",
              "      <td>0.874498</td>\n",
              "      <td>1.197480</td>\n",
              "      <td>-0.201127</td>\n",
              "      <td>0.230544</td>\n",
              "      <td>-0.743749</td>\n",
              "      <td>...</td>\n",
              "      <td>1.196975</td>\n",
              "      <td>0.079365</td>\n",
              "      <td>-0.347910</td>\n",
              "      <td>0.771725</td>\n",
              "      <td>0.368069</td>\n",
              "      <td>1.173361</td>\n",
              "      <td>-0.895052</td>\n",
              "      <td>0.704253</td>\n",
              "      <td>-0.585195</td>\n",
              "      <td>1.094100</td>\n",
              "    </tr>\n",
              "  </tbody>\n",
              "</table>\n",
              "<p>5 rows × 40 columns</p>\n",
              "</div>"
            ],
            "text/plain": [
              "   Feature0  Feature1  Feature2  Feature3  Feature4  Feature5  Feature6  \\\n",
              "0  0.140514 -0.533037  1.478885 -0.050549  0.504151 -0.440043  1.812464   \n",
              "1 -0.898200 -0.782070  0.108701  1.364893  0.593578 -0.902526 -0.082300   \n",
              "2 -0.813415  0.344493  1.595646 -0.145575  1.291868  0.029102 -1.304461   \n",
              "3 -1.375832 -1.649615 -0.042596 -1.084870 -0.608164  0.817495  0.297666   \n",
              "4 -1.046623  0.965945 -0.326887  0.165514  0.109975  0.874498  1.197480   \n",
              "\n",
              "   Feature7  Feature8  Feature9    ...      Feature30  Feature31  Feature32  \\\n",
              "0 -0.095540  0.891967  1.617159    ...       0.549028  -1.872650  -0.135790   \n",
              "1  1.179372 -0.518053 -0.225826    ...      -0.129789  -1.288518  -0.180014   \n",
              "2  0.737832  0.087635  0.443799    ...      -0.836561  -1.022622   2.265219   \n",
              "3 -0.346243 -0.533978  1.122233    ...       0.363916  -0.203589   0.235016   \n",
              "4 -0.201127  0.230544 -0.743749    ...       1.196975   0.079365  -0.347910   \n",
              "\n",
              "   Feature33  Feature34  Feature35  Feature36  Feature37  Feature38  Feature39  \n",
              "0   0.091042   0.566925  -0.219366   0.569566   0.547480   0.097368   0.123405  \n",
              "1   0.859563   0.124860  -0.250582  -0.700927   0.482043  -0.206814   1.202387  \n",
              "2   0.391877   0.042783   1.893751  -0.432940  -0.703125   0.866596  -0.529517  \n",
              "3  -0.290859  -0.180092  -0.299549   0.512530  -0.955217   1.774759   0.684536  \n",
              "4   0.771725   0.368069   1.173361  -0.895052   0.704253  -0.585195   1.094100  \n",
              "\n",
              "[5 rows x 40 columns]"
            ]
          },
          "metadata": {
            "tags": []
          },
          "execution_count": 33
        }
      ]
    },
    {
      "metadata": {
        "id": "oPJcnoBTpxOb",
        "colab_type": "code",
        "colab": {}
      },
      "cell_type": "code",
      "source": [
        "df1 = df_train.loc[0,'Feature0': 'Feature39']\n",
        "\n",
        "x= df1.values"
      ],
      "execution_count": 0,
      "outputs": []
    },
    {
      "metadata": {
        "id": "QLRGlwybqKqc",
        "colab_type": "code",
        "colab": {
          "base_uri": "https://localhost:8080/",
          "height": 163
        },
        "outputId": "eedf0104-4a50-40c8-bd57-e87410286381"
      },
      "cell_type": "code",
      "source": [
        "x"
      ],
      "execution_count": 35,
      "outputs": [
        {
          "output_type": "execute_result",
          "data": {
            "text/plain": [
              "array([ 0.14051443, -0.53303741,  1.478885  , -0.05054938,  0.5041513 ,\n",
              "       -0.4400429 ,  1.8124643 , -0.09554043,  0.8919672 ,  1.61715856,\n",
              "       -0.37552828,  0.4082918 , -0.21799901, -0.20990673, -1.37295247,\n",
              "       -0.44194834, -1.85505339,  0.27815427,  0.52488105,  0.3224197 ,\n",
              "        0.16062095, -0.67426064, -0.41349239, -1.40197345, -1.04787174,\n",
              "       -0.31159956, -0.14764286, -0.53286757, -0.52184992,  0.80457005,\n",
              "        0.54902845, -1.87265032, -0.13579022,  0.09104241,  0.56692484,\n",
              "       -0.21936576,  0.5695662 ,  0.54747998,  0.09736783,  0.12340542])"
            ]
          },
          "metadata": {
            "tags": []
          },
          "execution_count": 35
        }
      ]
    },
    {
      "metadata": {
        "id": "Lepd7hk4qe3R",
        "colab_type": "code",
        "colab": {
          "base_uri": "https://localhost:8080/",
          "height": 163
        },
        "outputId": "456f8d10-5aa4-46a1-a7c2-c86bf4799814"
      },
      "cell_type": "code",
      "source": [
        "w"
      ],
      "execution_count": 36,
      "outputs": [
        {
          "output_type": "execute_result",
          "data": {
            "text/plain": [
              "array([[ 0.25008539,  0.70445457,  0.1587082 ,  0.43054321,  0.26483861,\n",
              "         0.43260431,  0.21702123,  0.40871228,  0.94455534,  0.53837901,\n",
              "         0.78661373,  0.54700948,  0.33305398,  0.67703856,  0.03145958,\n",
              "        -0.11449891, -0.60665718,  0.79129729,  0.96109767,  0.55657989,\n",
              "         0.95023645,  0.09521403,  0.37170334,  0.18322878, -0.17092661,\n",
              "         0.47852233, -0.28740263,  0.65447856,  0.45093357,  0.34838723,\n",
              "         0.3010536 ,  0.11006918,  0.45655649,  0.6861629 ,  0.0277843 ,\n",
              "         0.57139552,  0.8376329 ,  0.75700116,  0.98963601,  0.37779808]])"
            ]
          },
          "metadata": {
            "tags": []
          },
          "execution_count": 36
        }
      ]
    },
    {
      "metadata": {
        "id": "HH9GyAvzqV1v",
        "colab_type": "code",
        "colab": {
          "base_uri": "https://localhost:8080/",
          "height": 145
        },
        "outputId": "b25e081e-a2cc-44b5-9d04-1dbf5c08f75e"
      },
      "cell_type": "code",
      "source": [
        "i = w*x\n",
        "print(i)"
      ],
      "execution_count": 37,
      "outputs": [
        {
          "output_type": "stream",
          "text": [
            "[[ 0.03514061 -0.37550064  0.23471118 -0.02176369  0.13351873 -0.19036445\n",
            "   0.39334323 -0.03904855  0.84251238  0.87064421 -0.2953957   0.22333949\n",
            "  -0.07260544 -0.14211495 -0.0431925   0.0506026   1.12538147  0.22010272\n",
            "   0.50446195  0.17945232  0.15262788 -0.06419907 -0.15369651 -0.25688189\n",
            "   0.17910916 -0.14910735  0.04243295 -0.3487504  -0.23531965  0.28030193\n",
            "   0.16528699 -0.20612108 -0.0619959   0.06246993  0.01575161 -0.12534461\n",
            "   0.47708739  0.41444298  0.09635871  0.04662233]]\n"
          ],
          "name": "stdout"
        }
      ]
    },
    {
      "metadata": {
        "id": "z4BskjVKp684",
        "colab_type": "code",
        "colab": {}
      },
      "cell_type": "code",
      "source": [
        "def sigmoid(input):\n",
        "    return 1.0 / (1.0 + np.exp(-(input)))"
      ],
      "execution_count": 0,
      "outputs": []
    },
    {
      "metadata": {
        "id": "DC_8uaMZqJ6h",
        "colab_type": "code",
        "colab": {}
      },
      "cell_type": "code",
      "source": [
        "m = np.sum(i)\n",
        "Y_hat = sigmoid(m)"
      ],
      "execution_count": 0,
      "outputs": []
    },
    {
      "metadata": {
        "id": "3XAM0GmZqRa9",
        "colab_type": "code",
        "colab": {
          "base_uri": "https://localhost:8080/",
          "height": 126
        },
        "outputId": "6f0bb222-52d3-4668-c6c0-53c184e778d2"
      },
      "cell_type": "code",
      "source": [
        "m\n",
        "Y_train = df_train['Y']\n",
        "Y_train.head()"
      ],
      "execution_count": 52,
      "outputs": [
        {
          "output_type": "execute_result",
          "data": {
            "text/plain": [
              "0    1.342829\n",
              "1    0.876341\n",
              "2    1.827752\n",
              "3    1.841433\n",
              "4    1.728270\n",
              "Name: Y, dtype: float64"
            ]
          },
          "metadata": {
            "tags": []
          },
          "execution_count": 52
        }
      ]
    },
    {
      "metadata": {
        "id": "bfTTEb3HqreY",
        "colab_type": "code",
        "colab": {}
      },
      "cell_type": "code",
      "source": [
        "def error(Y, Y_hat):\n",
        "    err = 0.0\n",
        "    err += 0.5 * (Y_hat - Y) ** 2\n",
        "    return err"
      ],
      "execution_count": 0,
      "outputs": []
    },
    {
      "metadata": {
        "id": "L7rlUUc0sgkB",
        "colab_type": "code",
        "colab": {
          "base_uri": "https://localhost:8080/",
          "height": 35
        },
        "outputId": "da4c149a-db4a-4a35-a672-6a1662dac358"
      },
      "cell_type": "code",
      "source": [
        "Y[0], Y_hat"
      ],
      "execution_count": 43,
      "outputs": [
        {
          "output_type": "execute_result",
          "data": {
            "text/plain": [
              "(1.3428289913999998, 0.9813722667492715)"
            ]
          },
          "metadata": {
            "tags": []
          },
          "execution_count": 43
        }
      ]
    },
    {
      "metadata": {
        "id": "Cey__FRLqv6M",
        "colab_type": "code",
        "colab": {
          "base_uri": "https://localhost:8080/",
          "height": 35
        },
        "outputId": "58e37dc0-3bdb-44a1-c2f6-182c914d4692"
      },
      "cell_type": "code",
      "source": [
        "error(Y[0], Y_hat)\n"
      ],
      "execution_count": 46,
      "outputs": [
        {
          "output_type": "execute_result",
          "data": {
            "text/plain": [
              "0.06532548189761621"
            ]
          },
          "metadata": {
            "tags": []
          },
          "execution_count": 46
        }
      ]
    },
    {
      "metadata": {
        "id": "DyyliMqAq7W_",
        "colab_type": "code",
        "colab": {
          "base_uri": "https://localhost:8080/",
          "height": 35
        },
        "outputId": "81724941-4d30-4ebc-e7d0-e1284c60bf11"
      },
      "cell_type": "code",
      "source": [
        "df_train.shape"
      ],
      "execution_count": 47,
      "outputs": [
        {
          "output_type": "execute_result",
          "data": {
            "text/plain": [
              "(800, 41)"
            ]
          },
          "metadata": {
            "tags": []
          },
          "execution_count": 47
        }
      ]
    },
    {
      "metadata": {
        "id": "iG7Ji5_qvfix",
        "colab_type": "code",
        "colab": {}
      },
      "cell_type": "code",
      "source": [
        "def Y_hat_fun():\n",
        "  "
      ],
      "execution_count": 0,
      "outputs": []
    },
    {
      "metadata": {
        "id": "bkf0K3yTtmYh",
        "colab_type": "code",
        "colab": {}
      },
      "cell_type": "code",
      "source": [
        "e = []\n",
        "for i in range(800):\n",
        "  input = df_train.loc[i ,'Feature0': 'Feature39']\n",
        "  m = input.values * w\n",
        "  Z = np.sum(m)\n",
        "  Y_hat_train = sigmoid(Z)\n",
        "  e.append(error(Y_train[i], Y_hat_train))"
      ],
      "execution_count": 0,
      "outputs": []
    },
    {
      "metadata": {
        "id": "DqZCgkpOwB3w",
        "colab_type": "code",
        "colab": {
          "base_uri": "https://localhost:8080/",
          "height": 35
        },
        "outputId": "9686d5c5-aa45-4da1-be99-4fb3e1c20150"
      },
      "cell_type": "code",
      "source": [
        "# epoch 0  mean squared error\n",
        "len(e)\n",
        "e_mean = np.array(e)\n",
        "np.mean(e_mean)"
      ],
      "execution_count": 57,
      "outputs": [
        {
          "output_type": "execute_result",
          "data": {
            "text/plain": [
              "0.35481023950416213"
            ]
          },
          "metadata": {
            "tags": []
          },
          "execution_count": 57
        }
      ]
    },
    {
      "metadata": {
        "id": "mnaegq1MzNX4",
        "colab_type": "text"
      },
      "cell_type": "markdown",
      "source": [
        "## Train data"
      ]
    },
    {
      "metadata": {
        "id": "lJIpAWZcwZ4D",
        "colab_type": "code",
        "colab": {
          "base_uri": "https://localhost:8080/",
          "height": 199
        },
        "outputId": "0cbdf04b-5db4-4aeb-b018-ca8c39a6320d"
      },
      "cell_type": "code",
      "source": [
        "mse_value_train = []\n",
        "\n",
        "for i in range(10):\n",
        "  w = np.load('weights_after_epoch_{0}.npy'.format(i))\n",
        "  Y_hat = sigmoid(np.sum(w*x))\n",
        "  \n",
        "  # calculate error\n",
        "  e = []\n",
        "  for i in range(800):\n",
        "    input = df_train.loc[i ,'Feature0': 'Feature39']\n",
        "    m = input.values * w\n",
        "    Z = np.sum(m)\n",
        "    Y_hat_train = sigmoid(Z)\n",
        "    e.append(error(Y_train[i], Y_hat_train))\n",
        "  e_mean = np.array(e)\n",
        "  print(np.mean(e_mean))\n",
        "  a = np.mean(e_mean)\n",
        "  mse_value_train.append(a)\n"
      ],
      "execution_count": 75,
      "outputs": [
        {
          "output_type": "stream",
          "text": [
            "0.35481023950416213\n",
            "0.3456875785258292\n",
            "0.3441216283582106\n",
            "0.34317333366301983\n",
            "0.3424484325704922\n",
            "0.3418491844736124\n",
            "0.3413331554935114\n",
            "0.3408746450962654\n",
            "0.3404567988676611\n",
            "0.3400679502978406\n"
          ],
          "name": "stdout"
        }
      ]
    },
    {
      "metadata": {
        "id": "0BI9UoWyzMns",
        "colab_type": "text"
      },
      "cell_type": "markdown",
      "source": [
        "### Validation loss"
      ]
    },
    {
      "metadata": {
        "id": "rH1d1CydxW6C",
        "colab_type": "code",
        "colab": {}
      },
      "cell_type": "code",
      "source": [
        "df_validation = pd.read_csv('validation_data.csv')\n"
      ],
      "execution_count": 0,
      "outputs": []
    },
    {
      "metadata": {
        "id": "zITlAb76zXeC",
        "colab_type": "code",
        "colab": {}
      },
      "cell_type": "code",
      "source": [
        "Y_validation = df_validation['Y']\n"
      ],
      "execution_count": 0,
      "outputs": []
    },
    {
      "metadata": {
        "id": "FQHrUGctzaQE",
        "colab_type": "code",
        "colab": {
          "base_uri": "https://localhost:8080/",
          "height": 199
        },
        "outputId": "bf0c3ca7-5585-4e70-bcf1-2c8d638d43bd"
      },
      "cell_type": "code",
      "source": [
        "mse_value_validation = []\n",
        "for i in range(10):\n",
        "  w = np.load('weights_after_epoch_{0}.npy'.format(i))\n",
        "  Y_hat = sigmoid(np.sum(w*x))\n",
        "  \n",
        "  # calculate error\n",
        "  e_val = []\n",
        "  for i in range(200):\n",
        "    input_val = df_validation.loc[i ,'Feature0': 'Feature39']\n",
        "    m_val = input_val.values * w\n",
        "    Z_val = np.sum(m_val)\n",
        "    Y_hat_val = sigmoid(Z_val)\n",
        "    e_val.append(error(Y_validation[i], Y_hat_val))\n",
        "    e_mean = np.array(e)\n",
        "  \n",
        "  e_mean = np.array(e_val)\n",
        "  a = np.mean(e_mean)\n",
        "  print(a)\n",
        "  mse_value_validation.append(a)\n",
        "\n"
      ],
      "execution_count": 73,
      "outputs": [
        {
          "output_type": "stream",
          "text": [
            "0.38175964575602556\n",
            "0.3725722750448153\n",
            "0.36974304490131915\n",
            "0.3701919712971724\n",
            "0.3701751700040101\n",
            "0.3709080260459867\n",
            "0.37162510565788587\n",
            "0.3725154349148477\n",
            "0.3734641822387809\n",
            "0.37444469929557317\n"
          ],
          "name": "stdout"
        }
      ]
    },
    {
      "metadata": {
        "id": "sdEG7xZ42jUx",
        "colab_type": "code",
        "colab": {
          "base_uri": "https://localhost:8080/",
          "height": 3654
        },
        "outputId": "6c53e582-77f7-4665-d15d-d54733fbb589"
      },
      "cell_type": "code",
      "source": [
        "e_val"
      ],
      "execution_count": 72,
      "outputs": [
        {
          "output_type": "execute_result",
          "data": {
            "text/plain": [
              "[0.8997184554308604,\n",
              " 0.275545209784097,\n",
              " 0.3282321882904933,\n",
              " 0.3268752328638928,\n",
              " 0.34184404021642734,\n",
              " 0.35623218952380153,\n",
              " 0.3356258799902489,\n",
              " 0.35647192465610844,\n",
              " 0.3781056460399487,\n",
              " 0.3559965290123491,\n",
              " 0.8660796064856197,\n",
              " 0.6041240032605256,\n",
              " 0.40504155182299506,\n",
              " 0.24131311013927054,\n",
              " 0.9757346915935239,\n",
              " 0.3813987690406867,\n",
              " 0.31036570098998106,\n",
              " 0.2895730735390571,\n",
              " 0.3334332931973068,\n",
              " 0.4946818538488136,\n",
              " 0.06981465304707045,\n",
              " 0.3556397654730313,\n",
              " 0.36597524382781205,\n",
              " 0.5612682044571199,\n",
              " 0.3518981230651896,\n",
              " 0.826851951320429,\n",
              " 0.5132394350884495,\n",
              " 0.33530181068871956,\n",
              " 0.3579273740329547,\n",
              " 0.6225301320706998,\n",
              " 0.2740830357273536,\n",
              " 0.35657820888855263,\n",
              " 0.20825941917788623,\n",
              " 0.430563097861393,\n",
              " 0.2306799574295583,\n",
              " 0.3664641878836174,\n",
              " 0.0879267258190082,\n",
              " 0.25954872615150193,\n",
              " 0.35746000101635833,\n",
              " 0.5360936830848457,\n",
              " 0.46453169284276424,\n",
              " 0.31511188841026105,\n",
              " 0.28541503844731114,\n",
              " 0.3680284036524549,\n",
              " 0.26424858226638326,\n",
              " 0.2024829542455346,\n",
              " 0.21179577420030418,\n",
              " 0.35977976800047917,\n",
              " 0.35653646559043467,\n",
              " 0.3498366111419138,\n",
              " 0.3508552259884007,\n",
              " 0.3568056609680732,\n",
              " 0.19514638058206704,\n",
              " 0.35051434257430886,\n",
              " 0.3516226967692879,\n",
              " 0.036234380458780704,\n",
              " 0.14357509805897375,\n",
              " 0.3557596083520405,\n",
              " 0.49168200410474705,\n",
              " 0.3445862398717288,\n",
              " 0.35377223994244084,\n",
              " 0.3322951135173089,\n",
              " 0.35142913296845674,\n",
              " 0.3565471662540002,\n",
              " 0.30659656376525435,\n",
              " 0.04870665463188843,\n",
              " 0.3068030061518679,\n",
              " 0.045993480697553754,\n",
              " 0.35647067456999154,\n",
              " 0.10939573238536712,\n",
              " 0.37853687196456637,\n",
              " 0.37267862313736433,\n",
              " 0.3616954642299043,\n",
              " 0.2101136801641939,\n",
              " 0.37817134043375983,\n",
              " 0.2508949743724118,\n",
              " 0.2770616694447403,\n",
              " 0.3789393411641059,\n",
              " 0.36983257803358144,\n",
              " 0.3742905278129884,\n",
              " 0.23875290414863196,\n",
              " 0.6236163178405427,\n",
              " 0.025046083420543354,\n",
              " 0.3737498354980929,\n",
              " 0.3754154919197819,\n",
              " 0.3032127697932101,\n",
              " 0.8909176371177548,\n",
              " 0.9394436846462355,\n",
              " 0.1777895601865904,\n",
              " 0.303656639282151,\n",
              " 0.3773928460264643,\n",
              " 0.3568244151018523,\n",
              " 0.35749713517764536,\n",
              " 0.34614540262523114,\n",
              " 1.0029096608460335,\n",
              " 0.40609795712993946,\n",
              " 0.43526742844902444,\n",
              " 0.6539319735040715,\n",
              " 0.35740968727915656,\n",
              " 0.39867042197945496,\n",
              " 0.3535614812548957,\n",
              " 0.4955786424649655,\n",
              " 0.33271687571404746,\n",
              " 0.35651544481072595,\n",
              " 0.35956078053535706,\n",
              " 0.3439116900399089,\n",
              " 0.3565657996597805,\n",
              " 0.06509119548552256,\n",
              " 0.35966766327592464,\n",
              " 0.30727141595191926,\n",
              " 0.3506005288415854,\n",
              " 0.5835605522093199,\n",
              " 0.3551977661154156,\n",
              " 0.3569636319625043,\n",
              " 0.35994347519851283,\n",
              " 0.3862483273841615,\n",
              " 0.22299035773249998,\n",
              " 0.29635422841813014,\n",
              " 0.3371234948542533,\n",
              " 0.36245445847498237,\n",
              " 0.3327514382922681,\n",
              " 0.2804324691263643,\n",
              " 0.12242229153779279,\n",
              " 0.404290020836083,\n",
              " 0.354185672753086,\n",
              " 0.3613011864335207,\n",
              " 0.2569470933848222,\n",
              " 0.35664856761975616,\n",
              " 0.3541084152696718,\n",
              " 0.3423644711279216,\n",
              " 0.4531533512324545,\n",
              " 0.3580354460845792,\n",
              " 0.254318159397707,\n",
              " 0.3513650864333102,\n",
              " 0.3560321869366226,\n",
              " 0.49335425861529764,\n",
              " 0.7323639426377248,\n",
              " 0.2838136425139682,\n",
              " 0.33461515314129553,\n",
              " 0.35741992677066065,\n",
              " 0.35023014402368075,\n",
              " 0.2851333803484896,\n",
              " 0.3560666980994315,\n",
              " 0.2781656770477573,\n",
              " 0.5224942184710872,\n",
              " 0.35255011582668744,\n",
              " 0.3655875359888468,\n",
              " 0.32349242951639745,\n",
              " 0.36404188153725486,\n",
              " 0.35986850758006206,\n",
              " 0.28144896729333435,\n",
              " 0.35692877878179524,\n",
              " 0.8410700769420295,\n",
              " 0.37540454467136175,\n",
              " 0.10896643884178547,\n",
              " 0.321520659183997,\n",
              " 0.3077231324962498,\n",
              " 0.643342617085869,\n",
              " 0.36112697681986977,\n",
              " 0.4812439045872128,\n",
              " 0.24169997519698982,\n",
              " 0.33730798520836847,\n",
              " 0.34594458935576794,\n",
              " 0.35885708030544167,\n",
              " 0.9631172578435334,\n",
              " 0.35683803013134396,\n",
              " 0.3591442674633039,\n",
              " 0.3643172931712203,\n",
              " 0.37723713175281753,\n",
              " 0.4098913375412154,\n",
              " 0.33270555792008694,\n",
              " 0.6553924555365794,\n",
              " 0.2595676425014484,\n",
              " 0.33712053557922794,\n",
              " 0.351881366521281,\n",
              " 0.30779518119277094,\n",
              " 0.35501145546277935,\n",
              " 0.629485498822219,\n",
              " 0.3608013929682755,\n",
              " 0.36089253575882335,\n",
              " 0.3495105606081855,\n",
              " 0.3541779690558565,\n",
              " 0.6152775943181302,\n",
              " 0.3639617095292273,\n",
              " 0.3661762039600033,\n",
              " 0.3563979486755701,\n",
              " 0.3577764213161181,\n",
              " 0.22223713844246978,\n",
              " 0.12057325660586743,\n",
              " 0.3629870042627316,\n",
              " 0.3562473192870677,\n",
              " 0.35703975873193844,\n",
              " 0.1511602925297687,\n",
              " 0.35455968067087346,\n",
              " 0.31779544525842346,\n",
              " 0.21851236023685425,\n",
              " 0.36426564028798597,\n",
              " 1.4179393035275614,\n",
              " 0.3557062480775708,\n",
              " 0.40040396784845433]"
            ]
          },
          "metadata": {
            "tags": []
          },
          "execution_count": 72
        }
      ]
    },
    {
      "metadata": {
        "id": "E9NAnkMP1b2k",
        "colab_type": "code",
        "colab": {
          "base_uri": "https://localhost:8080/",
          "height": 361
        },
        "outputId": "97d7e5e0-846f-4860-fbb6-1091b50d0c43"
      },
      "cell_type": "code",
      "source": [
        "plt.plot(range(10), mse_value_train, color='orange')\n",
        "plt.plot(range(10), mse_value_validation, color='blue')\n",
        "plt.xlabel('Epoch')\n",
        "plt.ylabel('MSE')\n",
        "plt.show()"
      ],
      "execution_count": 76,
      "outputs": [
        {
          "output_type": "display_data",
          "data": {
            "image/png": "[encoded data removed]",
            "text/plain": [
              "<matplotlib.figure.Figure at 0x7f63aa7a5cf8>"
            ]
          },
          "metadata": {
            "tags": []
          }
        }
      ]
    },
    {
      "metadata": {
        "id": "52bSv1ga0fUL",
        "colab_type": "code",
        "colab": {}
      },
      "cell_type": "code",
      "source": [
        "#5. answer 1"
      ],
      "execution_count": 0,
      "outputs": []
    }
  ]
}